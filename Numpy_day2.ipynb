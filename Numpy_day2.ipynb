{
 "cells": [
  {
   "cell_type": "code",
   "execution_count": 1,
   "id": "28c11892-7423-45a6-8dec-315d7051c800",
   "metadata": {},
   "outputs": [],
   "source": [
    "import numpy as np"
   ]
  },
  {
   "cell_type": "code",
   "execution_count": 2,
   "id": "3ef1a8f7-6b75-40c2-ba26-373facf44a89",
   "metadata": {},
   "outputs": [
    {
     "data": {
      "text/plain": [
       "range(0, 10)"
      ]
     },
     "execution_count": 2,
     "metadata": {},
     "output_type": "execute_result"
    }
   ],
   "source": [
    "range(10)"
   ]
  },
  {
   "cell_type": "code",
   "execution_count": 3,
   "id": "225cca00-a086-4d8c-9eb1-14ca40c72080",
   "metadata": {},
   "outputs": [
    {
     "data": {
      "text/plain": [
       "[0, 1, 2, 3, 4, 5, 6, 7, 8, 9]"
      ]
     },
     "execution_count": 3,
     "metadata": {},
     "output_type": "execute_result"
    }
   ],
   "source": [
    "list(range(10))"
   ]
  },
  {
   "cell_type": "code",
   "execution_count": 4,
   "id": "116479fb-f755-4bae-a53b-0ef95739b8b1",
   "metadata": {},
   "outputs": [
    {
     "data": {
      "text/plain": [
       "[2, 3, 4]"
      ]
     },
     "execution_count": 4,
     "metadata": {},
     "output_type": "execute_result"
    }
   ],
   "source": [
    "list(range(2,5))"
   ]
  },
  {
   "cell_type": "code",
   "execution_count": 5,
   "id": "7d3f5732-a4b6-49b2-90fe-638a070685e7",
   "metadata": {},
   "outputs": [
    {
     "ename": "TypeError",
     "evalue": "'float' object cannot be interpreted as an integer",
     "output_type": "error",
     "traceback": [
      "\u001b[0;31m---------------------------------------------------------------------------\u001b[0m",
      "\u001b[0;31mTypeError\u001b[0m                                 Traceback (most recent call last)",
      "Cell \u001b[0;32mIn [5], line 1\u001b[0m\n\u001b[0;32m----> 1\u001b[0m \u001b[38;5;28mlist\u001b[39m(\u001b[38;5;28;43mrange\u001b[39;49m\u001b[43m(\u001b[49m\u001b[38;5;241;43m2\u001b[39;49m\u001b[43m,\u001b[49m\u001b[38;5;241;43m7.5\u001b[39;49m\u001b[43m)\u001b[49m)\n",
      "\u001b[0;31mTypeError\u001b[0m: 'float' object cannot be interpreted as an integer"
     ]
    }
   ],
   "source": [
    "list(range(2,7.5))"
   ]
  },
  {
   "cell_type": "code",
   "execution_count": 6,
   "id": "7b84f787-7aab-435c-bdb5-16affd0acf21",
   "metadata": {},
   "outputs": [
    {
     "data": {
      "text/plain": [
       "array([2, 3, 4, 5, 6, 7, 8, 9])"
      ]
     },
     "execution_count": 6,
     "metadata": {},
     "output_type": "execute_result"
    }
   ],
   "source": [
    "np.arange(2,10)"
   ]
  },
  {
   "cell_type": "code",
   "execution_count": 7,
   "id": "d2127206-0fb6-40e7-95cc-43ca66e5b85c",
   "metadata": {},
   "outputs": [
    {
     "data": {
      "text/plain": [
       "array([0.5, 1.5, 2.5, 3.5, 4.5, 5.5, 6.5, 7.5, 8.5, 9.5])"
      ]
     },
     "execution_count": 7,
     "metadata": {},
     "output_type": "execute_result"
    }
   ],
   "source": [
    "np.arange(0.5,10)"
   ]
  },
  {
   "cell_type": "code",
   "execution_count": 8,
   "id": "bf9e9590-fb2b-46cf-8585-493a638e3d58",
   "metadata": {},
   "outputs": [],
   "source": [
    "# arange() can generate floating pointn numbers as well"
   ]
  },
  {
   "cell_type": "code",
   "execution_count": 8,
   "id": "befa0196-59d2-4c90-8d83-a785a7b929df",
   "metadata": {},
   "outputs": [
    {
     "data": {
      "text/plain": [
       "array([1. , 1.5, 2. , 2.5, 3. , 3.5, 4. , 4.5, 5. , 5.5, 6. , 6.5, 7. ,\n",
       "       7.5, 8. , 8.5, 9. , 9.5])"
      ]
     },
     "execution_count": 8,
     "metadata": {},
     "output_type": "execute_result"
    }
   ],
   "source": [
    "np.arange(1,10, 0.5)"
   ]
  },
  {
   "cell_type": "code",
   "execution_count": 11,
   "id": "f0aaae16-82b2-4c8b-9112-3b4b3ad81301",
   "metadata": {},
   "outputs": [
    {
     "data": {
      "text/plain": [
       "array([ 2. ,  3.5,  5. ,  6.5,  8. ,  9.5, 11. , 12.5, 14. , 15.5, 17. ,\n",
       "       18.5])"
      ]
     },
     "execution_count": 11,
     "metadata": {},
     "output_type": "execute_result"
    }
   ],
   "source": [
    "np.arange(2,20, 1.5)"
   ]
  },
  {
   "cell_type": "code",
   "execution_count": 12,
   "id": "9cb0ee52-00f0-45ce-a298-ecd373417276",
   "metadata": {},
   "outputs": [
    {
     "data": {
      "text/plain": [
       "array([ 5,  4,  3,  2,  1,  0, -1, -2, -3])"
      ]
     },
     "execution_count": 12,
     "metadata": {},
     "output_type": "execute_result"
    }
   ],
   "source": [
    "np.arange(5,-4,-1)"
   ]
  },
  {
   "cell_type": "code",
   "execution_count": 10,
   "id": "3e3a75e7-dcea-4ba9-b569-67183eae5fa0",
   "metadata": {},
   "outputs": [
    {
     "data": {
      "text/plain": [
       "array([1.        , 1.21052632, 1.42105263, 1.63157895, 1.84210526,\n",
       "       2.05263158, 2.26315789, 2.47368421, 2.68421053, 2.89473684,\n",
       "       3.10526316, 3.31578947, 3.52631579, 3.73684211, 3.94736842,\n",
       "       4.15789474, 4.36842105, 4.57894737, 4.78947368, 5.        ])"
      ]
     },
     "execution_count": 10,
     "metadata": {},
     "output_type": "execute_result"
    }
   ],
   "source": [
    "np.linspace(1,5,20)"
   ]
  },
  {
   "cell_type": "code",
   "execution_count": 12,
   "id": "f1d83ff8-b094-4bc0-b558-3ce986983ab7",
   "metadata": {},
   "outputs": [],
   "source": [
    "# divide 1 to 5 scale into 20 parts."
   ]
  },
  {
   "cell_type": "code",
   "execution_count": 13,
   "id": "f0085ea5-1a0a-4bae-be34-d1e283ea7d14",
   "metadata": {},
   "outputs": [
    {
     "data": {
      "text/plain": [
       "(array([1.        , 1.21052632, 1.42105263, 1.63157895, 1.84210526,\n",
       "        2.05263158, 2.26315789, 2.47368421, 2.68421053, 2.89473684,\n",
       "        3.10526316, 3.31578947, 3.52631579, 3.73684211, 3.94736842,\n",
       "        4.15789474, 4.36842105, 4.57894737, 4.78947368, 5.        ]),\n",
       " 0.21052631578947367)"
      ]
     },
     "execution_count": 13,
     "metadata": {},
     "output_type": "execute_result"
    }
   ],
   "source": [
    "np.linspace(1,5,20, retstep = True)"
   ]
  },
  {
   "cell_type": "code",
   "execution_count": 14,
   "id": "1712c7e5-3c20-4902-92df-c1463dbd7ef9",
   "metadata": {},
   "outputs": [],
   "source": [
    "# retstep will give jump size "
   ]
  },
  {
   "cell_type": "code",
   "execution_count": 15,
   "id": "08f3db57-26b0-4ddb-9d6e-347c91c5e641",
   "metadata": {},
   "outputs": [
    {
     "data": {
      "text/plain": [
       "array([ 1. , 10.5, 20. ])"
      ]
     },
     "execution_count": 15,
     "metadata": {},
     "output_type": "execute_result"
    }
   ],
   "source": [
    "np.linspace(1,20,3)"
   ]
  },
  {
   "cell_type": "code",
   "execution_count": 14,
   "id": "56ea2bdf-5ac4-47cc-99dd-648c4120ce3f",
   "metadata": {},
   "outputs": [
    {
     "data": {
      "text/plain": [
       "array([1.00000000e+01, 2.78255940e+06, 7.74263683e+11, 2.15443469e+17,\n",
       "       5.99484250e+22, 1.66810054e+28, 4.64158883e+33, 1.29154967e+39,\n",
       "       3.59381366e+44, 1.00000000e+50])"
      ]
     },
     "execution_count": 14,
     "metadata": {},
     "output_type": "execute_result"
    }
   ],
   "source": [
    "np.logspace(1,50,10)"
   ]
  },
  {
   "cell_type": "code",
   "execution_count": 17,
   "id": "0b1d0f6e-5724-4236-9af6-bfc3535204c6",
   "metadata": {},
   "outputs": [
    {
     "data": {
      "text/plain": [
       "array([0., 0., 0., 0., 0.])"
      ]
     },
     "execution_count": 17,
     "metadata": {},
     "output_type": "execute_result"
    }
   ],
   "source": [
    "np.zeros(5)"
   ]
  },
  {
   "cell_type": "code",
   "execution_count": 18,
   "id": "2bc97e1e-6550-4876-a24e-f19c08839c08",
   "metadata": {},
   "outputs": [
    {
     "data": {
      "text/plain": [
       "array([[0., 0.],\n",
       "       [0., 0.],\n",
       "       [0., 0.]])"
      ]
     },
     "execution_count": 18,
     "metadata": {},
     "output_type": "execute_result"
    }
   ],
   "source": [
    "np.zeros((3,2))"
   ]
  },
  {
   "cell_type": "code",
   "execution_count": 19,
   "id": "f00461c8-0ccc-4b53-9feb-d432264a39da",
   "metadata": {},
   "outputs": [
    {
     "data": {
      "text/plain": [
       "array([[[0., 0., 0., 0., 0.],\n",
       "        [0., 0., 0., 0., 0.]],\n",
       "\n",
       "       [[0., 0., 0., 0., 0.],\n",
       "        [0., 0., 0., 0., 0.]],\n",
       "\n",
       "       [[0., 0., 0., 0., 0.],\n",
       "        [0., 0., 0., 0., 0.]]])"
      ]
     },
     "execution_count": 19,
     "metadata": {},
     "output_type": "execute_result"
    }
   ],
   "source": [
    "np.zeros((3,2,5))"
   ]
  },
  {
   "cell_type": "code",
   "execution_count": 20,
   "id": "0e83710d-480b-408c-87f0-57dfbeaa8476",
   "metadata": {},
   "outputs": [
    {
     "data": {
      "text/plain": [
       "array([1., 1., 1., 1., 1.])"
      ]
     },
     "execution_count": 20,
     "metadata": {},
     "output_type": "execute_result"
    }
   ],
   "source": [
    "np.ones(5)"
   ]
  },
  {
   "cell_type": "code",
   "execution_count": 21,
   "id": "2324a58a-c570-4f75-b08a-7217586062e2",
   "metadata": {},
   "outputs": [
    {
     "data": {
      "text/plain": [
       "array([[1., 1., 1., 1.],\n",
       "       [1., 1., 1., 1.],\n",
       "       [1., 1., 1., 1.]])"
      ]
     },
     "execution_count": 21,
     "metadata": {},
     "output_type": "execute_result"
    }
   ],
   "source": [
    "np.ones((3,4))"
   ]
  },
  {
   "cell_type": "code",
   "execution_count": 22,
   "id": "dc768afb-1a32-4095-87bd-70de1d8a93b9",
   "metadata": {},
   "outputs": [
    {
     "data": {
      "text/plain": [
       "array([[[1., 1.],\n",
       "        [1., 1.],\n",
       "        [1., 1.],\n",
       "        [1., 1.]],\n",
       "\n",
       "       [[1., 1.],\n",
       "        [1., 1.],\n",
       "        [1., 1.],\n",
       "        [1., 1.]],\n",
       "\n",
       "       [[1., 1.],\n",
       "        [1., 1.],\n",
       "        [1., 1.],\n",
       "        [1., 1.]]])"
      ]
     },
     "execution_count": 22,
     "metadata": {},
     "output_type": "execute_result"
    }
   ],
   "source": [
    "np.ones((3,4,2))"
   ]
  },
  {
   "cell_type": "code",
   "execution_count": 23,
   "id": "f21df1db-f385-4d85-b76b-75cbf4e1aca2",
   "metadata": {},
   "outputs": [
    {
     "data": {
      "text/plain": [
       "array([[[6., 6.],\n",
       "        [6., 6.],\n",
       "        [6., 6.],\n",
       "        [6., 6.]],\n",
       "\n",
       "       [[6., 6.],\n",
       "        [6., 6.],\n",
       "        [6., 6.],\n",
       "        [6., 6.]],\n",
       "\n",
       "       [[6., 6.],\n",
       "        [6., 6.],\n",
       "        [6., 6.],\n",
       "        [6., 6.]]])"
      ]
     },
     "execution_count": 23,
     "metadata": {},
     "output_type": "execute_result"
    }
   ],
   "source": [
    "np.ones((3,4,2)) + 5"
   ]
  },
  {
   "cell_type": "code",
   "execution_count": 24,
   "id": "74b7e6f6-497b-498a-8057-5295b123ccfe",
   "metadata": {},
   "outputs": [
    {
     "data": {
      "text/plain": [
       "array([[[2., 2.],\n",
       "        [2., 2.],\n",
       "        [2., 2.],\n",
       "        [2., 2.]],\n",
       "\n",
       "       [[2., 2.],\n",
       "        [2., 2.],\n",
       "        [2., 2.],\n",
       "        [2., 2.]],\n",
       "\n",
       "       [[2., 2.],\n",
       "        [2., 2.],\n",
       "        [2., 2.],\n",
       "        [2., 2.]]])"
      ]
     },
     "execution_count": 24,
     "metadata": {},
     "output_type": "execute_result"
    }
   ],
   "source": [
    "np.ones((3,4,2)) * 2"
   ]
  },
  {
   "cell_type": "code",
   "execution_count": 16,
   "id": "b4cf0297-c4be-495b-835f-e50a467ed765",
   "metadata": {},
   "outputs": [
    {
     "data": {
      "text/plain": [
       "array([[4.63899412e-310, 0.00000000e+000, 0.00000000e+000],\n",
       "       [0.00000000e+000, 0.00000000e+000, 0.00000000e+000]])"
      ]
     },
     "execution_count": 16,
     "metadata": {},
     "output_type": "execute_result"
    }
   ],
   "source": [
    "np.empty((2,3))"
   ]
  },
  {
   "cell_type": "code",
   "execution_count": 17,
   "id": "69d0854c-94c6-488e-bdd6-5a108eae63c5",
   "metadata": {},
   "outputs": [
    {
     "data": {
      "text/plain": [
       "array([[1., 0., 0., 0.],\n",
       "       [0., 1., 0., 0.],\n",
       "       [0., 0., 1., 0.],\n",
       "       [0., 0., 0., 1.]])"
      ]
     },
     "execution_count": 17,
     "metadata": {},
     "output_type": "execute_result"
    }
   ],
   "source": [
    "np.eye(4)"
   ]
  },
  {
   "cell_type": "code",
   "execution_count": 18,
   "id": "1b18af16-d9c4-4f56-a7f6-ba2e9caaf549",
   "metadata": {},
   "outputs": [
    {
     "data": {
      "text/plain": [
       "array([[1., 0., 0.],\n",
       "       [0., 1., 0.],\n",
       "       [0., 0., 1.]])"
      ]
     },
     "execution_count": 18,
     "metadata": {},
     "output_type": "execute_result"
    }
   ],
   "source": [
    "np.eye(3)"
   ]
  },
  {
   "cell_type": "code",
   "execution_count": 19,
   "id": "07d4777c-cdd0-4404-b189-c73c7bc5622e",
   "metadata": {},
   "outputs": [],
   "source": [
    "# Identity matrix"
   ]
  },
  {
   "cell_type": "code",
   "execution_count": 22,
   "id": "300a547b-3d47-465d-ade4-95e8ece014a8",
   "metadata": {},
   "outputs": [
    {
     "data": {
      "text/plain": [
       "array([[ 2. ,  3.5,  5. ],\n",
       "       [ 6.5,  8. ,  9.5],\n",
       "       [11. , 12.5, 14. ],\n",
       "       [15.5, 17. , 18.5]])"
      ]
     },
     "execution_count": 22,
     "metadata": {},
     "output_type": "execute_result"
    }
   ],
   "source": [
    "np.empty((4,3))"
   ]
  },
  {
   "cell_type": "code",
   "execution_count": 23,
   "id": "a6a40571-1f06-4b76-a6f4-da3e1fd75b2c",
   "metadata": {},
   "outputs": [],
   "source": [
    "d = np.eye(5)"
   ]
  },
  {
   "cell_type": "code",
   "execution_count": 24,
   "id": "b053f94c-eaa7-4535-8af1-c851ee6f5904",
   "metadata": {},
   "outputs": [
    {
     "data": {
      "text/plain": [
       "array([[1., 0., 0., 0., 0.],\n",
       "       [0., 1., 0., 0., 0.],\n",
       "       [0., 0., 1., 0., 0.],\n",
       "       [0., 0., 0., 1., 0.],\n",
       "       [0., 0., 0., 0., 1.]])"
      ]
     },
     "execution_count": 24,
     "metadata": {},
     "output_type": "execute_result"
    }
   ],
   "source": [
    "d"
   ]
  },
  {
   "cell_type": "code",
   "execution_count": 25,
   "id": "8ec73af1-4bd7-4eba-a8e5-06af2d9ec275",
   "metadata": {},
   "outputs": [
    {
     "data": {
      "text/plain": [
       "(5, 5)"
      ]
     },
     "execution_count": 25,
     "metadata": {},
     "output_type": "execute_result"
    }
   ],
   "source": [
    "d.shape"
   ]
  },
  {
   "cell_type": "code",
   "execution_count": 26,
   "id": "09b90fac-6843-4cb0-9804-db2b010e9b9a",
   "metadata": {},
   "outputs": [
    {
     "data": {
      "text/plain": [
       "25"
      ]
     },
     "execution_count": 26,
     "metadata": {},
     "output_type": "execute_result"
    }
   ],
   "source": [
    "d.size"
   ]
  },
  {
   "cell_type": "code",
   "execution_count": 27,
   "id": "51550106-608f-49be-a7ef-f169b8244c9b",
   "metadata": {},
   "outputs": [
    {
     "data": {
      "text/plain": [
       "2"
      ]
     },
     "execution_count": 27,
     "metadata": {},
     "output_type": "execute_result"
    }
   ],
   "source": [
    "d.ndim"
   ]
  },
  {
   "cell_type": "code",
   "execution_count": 29,
   "id": "77f03697-879a-4ae7-9099-d0a97e4e439b",
   "metadata": {},
   "outputs": [],
   "source": [
    "a1  = np.random.randn(3,4)"
   ]
  },
  {
   "cell_type": "code",
   "execution_count": 30,
   "id": "e4cd9a72-43a9-4190-8217-68fbc12c57a4",
   "metadata": {},
   "outputs": [
    {
     "data": {
      "text/plain": [
       "array([[ 3.03586331,  0.39615168, -0.01279583,  0.60290976],\n",
       "       [ 0.60755494, -0.81719738,  0.02251894, -0.66485862],\n",
       "       [-1.21391569, -1.16962606,  1.4126187 ,  0.14843689]])"
      ]
     },
     "execution_count": 30,
     "metadata": {},
     "output_type": "execute_result"
    }
   ],
   "source": [
    "a1"
   ]
  },
  {
   "cell_type": "code",
   "execution_count": 31,
   "id": "2e4e94ee-d985-4814-b908-ef054c90973c",
   "metadata": {},
   "outputs": [],
   "source": [
    "import pandas as pd"
   ]
  },
  {
   "cell_type": "code",
   "execution_count": 32,
   "id": "13e541f3-8b77-4de9-8d43-747bf27f742c",
   "metadata": {},
   "outputs": [
    {
     "data": {
      "text/html": [
       "<div>\n",
       "<style scoped>\n",
       "    .dataframe tbody tr th:only-of-type {\n",
       "        vertical-align: middle;\n",
       "    }\n",
       "\n",
       "    .dataframe tbody tr th {\n",
       "        vertical-align: top;\n",
       "    }\n",
       "\n",
       "    .dataframe thead th {\n",
       "        text-align: right;\n",
       "    }\n",
       "</style>\n",
       "<table border=\"1\" class=\"dataframe\">\n",
       "  <thead>\n",
       "    <tr style=\"text-align: right;\">\n",
       "      <th></th>\n",
       "      <th>0</th>\n",
       "      <th>1</th>\n",
       "      <th>2</th>\n",
       "      <th>3</th>\n",
       "    </tr>\n",
       "  </thead>\n",
       "  <tbody>\n",
       "    <tr>\n",
       "      <th>0</th>\n",
       "      <td>3.035863</td>\n",
       "      <td>0.396152</td>\n",
       "      <td>-0.012796</td>\n",
       "      <td>0.602910</td>\n",
       "    </tr>\n",
       "    <tr>\n",
       "      <th>1</th>\n",
       "      <td>0.607555</td>\n",
       "      <td>-0.817197</td>\n",
       "      <td>0.022519</td>\n",
       "      <td>-0.664859</td>\n",
       "    </tr>\n",
       "    <tr>\n",
       "      <th>2</th>\n",
       "      <td>-1.213916</td>\n",
       "      <td>-1.169626</td>\n",
       "      <td>1.412619</td>\n",
       "      <td>0.148437</td>\n",
       "    </tr>\n",
       "  </tbody>\n",
       "</table>\n",
       "</div>"
      ],
      "text/plain": [
       "          0         1         2         3\n",
       "0  3.035863  0.396152 -0.012796  0.602910\n",
       "1  0.607555 -0.817197  0.022519 -0.664859\n",
       "2 -1.213916 -1.169626  1.412619  0.148437"
      ]
     },
     "execution_count": 32,
     "metadata": {},
     "output_type": "execute_result"
    }
   ],
   "source": [
    "pd.DataFrame(a1)"
   ]
  },
  {
   "cell_type": "code",
   "execution_count": 33,
   "id": "ba3df8cd-2b4c-4ef3-b8a6-ba24ba6bbaa5",
   "metadata": {},
   "outputs": [
    {
     "data": {
      "text/plain": [
       "array([[ 3.03586331,  0.39615168, -0.01279583,  0.60290976],\n",
       "       [ 0.60755494, -0.81719738,  0.02251894, -0.66485862],\n",
       "       [-1.21391569, -1.16962606,  1.4126187 ,  0.14843689]])"
      ]
     },
     "execution_count": 33,
     "metadata": {},
     "output_type": "execute_result"
    }
   ],
   "source": [
    "a1"
   ]
  },
  {
   "cell_type": "code",
   "execution_count": 34,
   "id": "9d17fe19-1cf2-43ff-b9da-0df8bb6cf344",
   "metadata": {},
   "outputs": [],
   "source": [
    "# How to extract  -0.81719 from the array"
   ]
  },
  {
   "cell_type": "code",
   "execution_count": 35,
   "id": "51be2d4a-1f27-42a8-b5a7-c83b92e6ef03",
   "metadata": {},
   "outputs": [
    {
     "data": {
      "text/plain": [
       "-0.8171973751990139"
      ]
     },
     "execution_count": 35,
     "metadata": {},
     "output_type": "execute_result"
    }
   ],
   "source": [
    "a1[1][1]"
   ]
  },
  {
   "cell_type": "code",
   "execution_count": 40,
   "id": "fa7a15fa-d8ab-4133-80e8-6a23a1ba41e6",
   "metadata": {},
   "outputs": [
    {
     "data": {
      "text/plain": [
       "array([[ 3.03586331,  0.39615168],\n",
       "       [ 0.60755494, -0.81719738]])"
      ]
     },
     "execution_count": 40,
     "metadata": {},
     "output_type": "execute_result"
    }
   ],
   "source": [
    "a1[0:2, 0:2]"
   ]
  },
  {
   "cell_type": "code",
   "execution_count": 41,
   "id": "8200a92e-6f70-49f7-836c-6d590ee53c10",
   "metadata": {},
   "outputs": [
    {
     "data": {
      "text/plain": [
       "array([[ 0.02251894, -0.66485862],\n",
       "       [ 1.4126187 ,  0.14843689]])"
      ]
     },
     "execution_count": 41,
     "metadata": {},
     "output_type": "execute_result"
    }
   ],
   "source": [
    "a1[1:3, 2:4]"
   ]
  },
  {
   "cell_type": "code",
   "execution_count": 42,
   "id": "d101c3f3-a746-4586-bc4c-eccce5a1efa3",
   "metadata": {},
   "outputs": [],
   "source": [
    "#Upper bound is excluded\n"
   ]
  },
  {
   "cell_type": "code",
   "execution_count": null,
   "id": "31aa5e4b-b772-4d92-94c2-b3e862af17ed",
   "metadata": {},
   "outputs": [],
   "source": []
  },
  {
   "cell_type": "code",
   "execution_count": 51,
   "id": "d2122b2e-5855-45e5-acb4-f8f9076da44f",
   "metadata": {},
   "outputs": [],
   "source": [
    "m1 = np.random.randint(1,3, (3,3))"
   ]
  },
  {
   "cell_type": "code",
   "execution_count": 52,
   "id": "ae70c450-b665-4279-a817-566b2ae2909d",
   "metadata": {},
   "outputs": [
    {
     "data": {
      "text/plain": [
       "array([[2, 2, 2],\n",
       "       [1, 1, 1],\n",
       "       [1, 2, 1]])"
      ]
     },
     "execution_count": 52,
     "metadata": {},
     "output_type": "execute_result"
    }
   ],
   "source": [
    "m1"
   ]
  },
  {
   "cell_type": "code",
   "execution_count": 55,
   "id": "f1a50db7-15d8-4ca3-9251-8c56cbf6584f",
   "metadata": {},
   "outputs": [],
   "source": [
    "m2 = np.random.randint(2,4, (3,3))"
   ]
  },
  {
   "cell_type": "code",
   "execution_count": 56,
   "id": "c037a656-b225-4444-9c30-bbe784ced0e8",
   "metadata": {},
   "outputs": [
    {
     "data": {
      "text/plain": [
       "array([[2, 2, 2],\n",
       "       [2, 3, 2],\n",
       "       [2, 3, 2]])"
      ]
     },
     "execution_count": 56,
     "metadata": {},
     "output_type": "execute_result"
    }
   ],
   "source": [
    "m2"
   ]
  },
  {
   "cell_type": "code",
   "execution_count": 57,
   "id": "1801d965-d595-465e-b2fc-a9cb40c2076e",
   "metadata": {},
   "outputs": [
    {
     "data": {
      "text/plain": [
       "array([[4, 4, 4],\n",
       "       [2, 3, 2],\n",
       "       [2, 6, 2]])"
      ]
     },
     "execution_count": 57,
     "metadata": {},
     "output_type": "execute_result"
    }
   ],
   "source": [
    "m1 * m2\n",
    "# This is not matrix multi[lication"
   ]
  },
  {
   "cell_type": "code",
   "execution_count": 59,
   "id": "0e1735cb-ad15-41cd-8c7d-1118a313f270",
   "metadata": {},
   "outputs": [
    {
     "data": {
      "text/plain": [
       "array([[2, 2, 2],\n",
       "       [1, 1, 1],\n",
       "       [1, 2, 1]])"
      ]
     },
     "execution_count": 59,
     "metadata": {},
     "output_type": "execute_result"
    }
   ],
   "source": [
    "m1"
   ]
  },
  {
   "cell_type": "code",
   "execution_count": 60,
   "id": "60d77967-baa7-4858-8a1f-23e3f02a4c3f",
   "metadata": {},
   "outputs": [
    {
     "data": {
      "text/plain": [
       "array([[2, 2, 2],\n",
       "       [2, 3, 2],\n",
       "       [2, 3, 2]])"
      ]
     },
     "execution_count": 60,
     "metadata": {},
     "output_type": "execute_result"
    }
   ],
   "source": [
    "m2"
   ]
  },
  {
   "cell_type": "code",
   "execution_count": 61,
   "id": "eb62a674-c446-4054-aaa4-0820fdc40d59",
   "metadata": {},
   "outputs": [
    {
     "data": {
      "text/plain": [
       "array([[12, 16, 12],\n",
       "       [ 6,  8,  6],\n",
       "       [ 8, 11,  8]])"
      ]
     },
     "execution_count": 61,
     "metadata": {},
     "output_type": "execute_result"
    }
   ],
   "source": [
    "m1@m2\n",
    "# This is matrix multopliaction"
   ]
  },
  {
   "cell_type": "code",
   "execution_count": 62,
   "id": "ee6b04e9-a39d-4c70-a389-04d46af50399",
   "metadata": {},
   "outputs": [],
   "source": [
    "# if m1 is mxn matrix and m2 is pxq matrix, then to multiply it\n",
    "# n should be equal to p."
   ]
  },
  {
   "cell_type": "code",
   "execution_count": 63,
   "id": "cb60800a-8384-44a3-bafc-f4f9d620731a",
   "metadata": {},
   "outputs": [
    {
     "data": {
      "text/plain": [
       "array([[16, 16, 16],\n",
       "       [ 1,  1,  1],\n",
       "       [ 1, 16,  1]])"
      ]
     },
     "execution_count": 63,
     "metadata": {},
     "output_type": "execute_result"
    }
   ],
   "source": [
    "pow(m1,4)"
   ]
  },
  {
   "cell_type": "code",
   "execution_count": 64,
   "id": "cf3cd6f1-9386-4cdf-972f-59cbc9b5d828",
   "metadata": {},
   "outputs": [
    {
     "data": {
      "text/plain": [
       "array([[1.41421356, 1.41421356, 1.41421356],\n",
       "       [1.        , 1.        , 1.        ],\n",
       "       [1.        , 1.41421356, 1.        ]])"
      ]
     },
     "execution_count": 64,
     "metadata": {},
     "output_type": "execute_result"
    }
   ],
   "source": [
    "np.sqrt(m1)"
   ]
  },
  {
   "cell_type": "code",
   "execution_count": 65,
   "id": "e9282e3a-c5fc-4770-a76c-e727e5f5f808",
   "metadata": {},
   "outputs": [
    {
     "data": {
      "text/plain": [
       "array([[0.30103, 0.30103, 0.30103],\n",
       "       [0.     , 0.     , 0.     ],\n",
       "       [0.     , 0.30103, 0.     ]])"
      ]
     },
     "execution_count": 65,
     "metadata": {},
     "output_type": "execute_result"
    }
   ],
   "source": [
    "np.log10(m1)"
   ]
  },
  {
   "cell_type": "code",
   "execution_count": 66,
   "id": "2778a0cb-cab3-4113-89d5-c41f305d9a3f",
   "metadata": {},
   "outputs": [
    {
     "data": {
      "text/plain": [
       "array([[7.3890561 , 7.3890561 , 7.3890561 ],\n",
       "       [2.71828183, 2.71828183, 2.71828183],\n",
       "       [2.71828183, 7.3890561 , 2.71828183]])"
      ]
     },
     "execution_count": 66,
     "metadata": {},
     "output_type": "execute_result"
    }
   ],
   "source": [
    "np.exp(m1)"
   ]
  },
  {
   "cell_type": "code",
   "execution_count": 67,
   "id": "f17e6815-89c8-47d9-888b-1e911ab15895",
   "metadata": {},
   "outputs": [
    {
     "data": {
      "text/plain": [
       "array([[4, 4, 4],\n",
       "       [1, 1, 1],\n",
       "       [1, 4, 1]])"
      ]
     },
     "execution_count": 67,
     "metadata": {},
     "output_type": "execute_result"
    }
   ],
   "source": [
    "m1 ** 2"
   ]
  },
  {
   "cell_type": "code",
   "execution_count": 68,
   "id": "8151f56a-e077-42ce-b2da-73c7f3614307",
   "metadata": {},
   "outputs": [
    {
     "data": {
      "text/plain": [
       "array([[7, 7, 7],\n",
       "       [6, 6, 6],\n",
       "       [6, 7, 6]])"
      ]
     },
     "execution_count": 68,
     "metadata": {},
     "output_type": "execute_result"
    }
   ],
   "source": [
    "m1 + 5"
   ]
  },
  {
   "cell_type": "code",
   "execution_count": null,
   "id": "d869f523-09e8-4bb6-a145-7da932e8fe7e",
   "metadata": {},
   "outputs": [],
   "source": []
  }
 ],
 "metadata": {
  "kernelspec": {
   "display_name": "Python 3 (ipykernel)",
   "language": "python",
   "name": "python3"
  },
  "language_info": {
   "codemirror_mode": {
    "name": "ipython",
    "version": 3
   },
   "file_extension": ".py",
   "mimetype": "text/x-python",
   "name": "python",
   "nbconvert_exporter": "python",
   "pygments_lexer": "ipython3",
   "version": "3.10.6"
  }
 },
 "nbformat": 4,
 "nbformat_minor": 5
}
