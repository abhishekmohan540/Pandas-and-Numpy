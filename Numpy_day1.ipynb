{
 "cells": [
  {
   "cell_type": "markdown",
   "id": "1d9800ba-be29-4e92-bf5f-c3ee4bfb49c0",
   "metadata": {},
   "source": [
    "## NumPy"
   ]
  },
  {
   "cell_type": "code",
   "execution_count": 1,
   "id": "6dbe87ff-1879-4459-a9f9-1807d979ce34",
   "metadata": {},
   "outputs": [],
   "source": [
    "# NumPy :- Numerical Python."
   ]
  },
  {
   "cell_type": "code",
   "execution_count": 1,
   "id": "3d653c42-101a-4e57-ac47-4ceea0a0784e",
   "metadata": {},
   "outputs": [],
   "source": [
    "import numpy as np"
   ]
  },
  {
   "cell_type": "code",
   "execution_count": 3,
   "id": "5035caa1-0353-4fe4-9990-6389ef940a0b",
   "metadata": {},
   "outputs": [],
   "source": [
    "# Can perform almost every kind of mathematical operations using numpy"
   ]
  },
  {
   "cell_type": "code",
   "execution_count": 4,
   "id": "bec767db-fae1-4aa8-8848-5f6ce3715812",
   "metadata": {},
   "outputs": [],
   "source": [
    "l = [1,2,3,4,4]"
   ]
  },
  {
   "cell_type": "code",
   "execution_count": 5,
   "id": "aa03c5a7-df99-415d-858e-bb5df1dc5bb4",
   "metadata": {},
   "outputs": [
    {
     "data": {
      "text/plain": [
       "list"
      ]
     },
     "execution_count": 5,
     "metadata": {},
     "output_type": "execute_result"
    }
   ],
   "source": [
    "type(l)"
   ]
  },
  {
   "cell_type": "code",
   "execution_count": 6,
   "id": "ca18a2a8-9ffb-4711-934b-2dd03904f45b",
   "metadata": {},
   "outputs": [
    {
     "data": {
      "text/plain": [
       "array([1, 2, 3, 4, 4])"
      ]
     },
     "execution_count": 6,
     "metadata": {},
     "output_type": "execute_result"
    }
   ],
   "source": [
    "np.array(l)"
   ]
  },
  {
   "cell_type": "code",
   "execution_count": 7,
   "id": "1bf5df3d-375c-4d7c-920f-5a424011df2b",
   "metadata": {},
   "outputs": [],
   "source": [
    "a = np.array(l)"
   ]
  },
  {
   "cell_type": "code",
   "execution_count": 8,
   "id": "d6b93209-de40-441e-8f39-410dda55dfbd",
   "metadata": {},
   "outputs": [
    {
     "data": {
      "text/plain": [
       "numpy.ndarray"
      ]
     },
     "execution_count": 8,
     "metadata": {},
     "output_type": "execute_result"
    }
   ],
   "source": [
    "type(a)"
   ]
  },
  {
   "cell_type": "code",
   "execution_count": 10,
   "id": "906e9c15-b76d-405c-b0b9-f3fffd9e1d1e",
   "metadata": {},
   "outputs": [],
   "source": [
    "a1 = np.array([[1,2,3], [4,5,6]])"
   ]
  },
  {
   "cell_type": "code",
   "execution_count": 11,
   "id": "129a0462-5ea3-4349-8d96-75dcf8aefc56",
   "metadata": {},
   "outputs": [
    {
     "data": {
      "text/plain": [
       "array([[1, 2, 3],\n",
       "       [4, 5, 6]])"
      ]
     },
     "execution_count": 11,
     "metadata": {},
     "output_type": "execute_result"
    }
   ],
   "source": [
    "a1"
   ]
  },
  {
   "cell_type": "code",
   "execution_count": 12,
   "id": "4b14684d-97b7-4e16-ae0a-82f9e11acaef",
   "metadata": {},
   "outputs": [],
   "source": [
    "a2 = np.array([[[1,2,3], [4,5,6]]])"
   ]
  },
  {
   "cell_type": "code",
   "execution_count": 13,
   "id": "5e3c8c51-252c-4548-8a39-14840855459b",
   "metadata": {},
   "outputs": [
    {
     "data": {
      "text/plain": [
       "array([[[1, 2, 3],\n",
       "        [4, 5, 6]]])"
      ]
     },
     "execution_count": 13,
     "metadata": {},
     "output_type": "execute_result"
    }
   ],
   "source": [
    "a2"
   ]
  },
  {
   "cell_type": "code",
   "execution_count": 14,
   "id": "e0aad223-c0d3-4c24-9b4f-28ff1d387875",
   "metadata": {},
   "outputs": [],
   "source": [
    "# To check their dimension, use ndim (n dimension)."
   ]
  },
  {
   "cell_type": "code",
   "execution_count": 15,
   "id": "3654184b-6fa5-4d75-bd5b-b7486147abf5",
   "metadata": {},
   "outputs": [
    {
     "data": {
      "text/plain": [
       "array([1, 2, 3, 4, 4])"
      ]
     },
     "execution_count": 15,
     "metadata": {},
     "output_type": "execute_result"
    }
   ],
   "source": [
    "a"
   ]
  },
  {
   "cell_type": "code",
   "execution_count": 16,
   "id": "713b98a5-790d-4e28-8286-14dc5162888c",
   "metadata": {},
   "outputs": [
    {
     "data": {
      "text/plain": [
       "array([[1, 2, 3],\n",
       "       [4, 5, 6]])"
      ]
     },
     "execution_count": 16,
     "metadata": {},
     "output_type": "execute_result"
    }
   ],
   "source": [
    "a1"
   ]
  },
  {
   "cell_type": "code",
   "execution_count": 17,
   "id": "ec955a8c-ce98-45ab-abd3-e128e822d2a3",
   "metadata": {},
   "outputs": [
    {
     "data": {
      "text/plain": [
       "array([[[1, 2, 3],\n",
       "        [4, 5, 6]]])"
      ]
     },
     "execution_count": 17,
     "metadata": {},
     "output_type": "execute_result"
    }
   ],
   "source": [
    "a2"
   ]
  },
  {
   "cell_type": "code",
   "execution_count": 18,
   "id": "07690511-8db9-42b5-9ef4-f54d9edb6758",
   "metadata": {},
   "outputs": [
    {
     "data": {
      "text/plain": [
       "1"
      ]
     },
     "execution_count": 18,
     "metadata": {},
     "output_type": "execute_result"
    }
   ],
   "source": [
    "a.ndim"
   ]
  },
  {
   "cell_type": "code",
   "execution_count": 19,
   "id": "9ef8c0ea-1838-43d0-92f3-62dd81020c6b",
   "metadata": {},
   "outputs": [
    {
     "data": {
      "text/plain": [
       "2"
      ]
     },
     "execution_count": 19,
     "metadata": {},
     "output_type": "execute_result"
    }
   ],
   "source": [
    "a1.ndim"
   ]
  },
  {
   "cell_type": "code",
   "execution_count": 20,
   "id": "01542593-f023-4275-88fd-f25315bc7177",
   "metadata": {},
   "outputs": [
    {
     "data": {
      "text/plain": [
       "3"
      ]
     },
     "execution_count": 20,
     "metadata": {},
     "output_type": "execute_result"
    }
   ],
   "source": [
    "a2.ndim"
   ]
  },
  {
   "cell_type": "code",
   "execution_count": 21,
   "id": "c5aff4d6-ad10-4738-88db-718de86107af",
   "metadata": {},
   "outputs": [],
   "source": [
    "# one dimension- in one direction or on one axis only.\n",
    "# two dimension- in two direction , ie on x and y axis.\n",
    "# three dimension- in x, y and z axis."
   ]
  },
  {
   "cell_type": "code",
   "execution_count": 26,
   "id": "208468dd-29b3-476c-9ea7-dabdc73a9531",
   "metadata": {},
   "outputs": [],
   "source": [
    "a3 = np.array([[[1,2,3],[10,20,30]],[[4,5,6],[40,50,60]], [[7,8,9],[70,80,90]]])"
   ]
  },
  {
   "cell_type": "code",
   "execution_count": 27,
   "id": "8053f274-cb74-47d7-afc3-c12b4f295414",
   "metadata": {},
   "outputs": [
    {
     "data": {
      "text/plain": [
       "array([[[ 1,  2,  3],\n",
       "        [10, 20, 30]],\n",
       "\n",
       "       [[ 4,  5,  6],\n",
       "        [40, 50, 60]],\n",
       "\n",
       "       [[ 7,  8,  9],\n",
       "        [70, 80, 90]]])"
      ]
     },
     "execution_count": 27,
     "metadata": {},
     "output_type": "execute_result"
    }
   ],
   "source": [
    "a3"
   ]
  },
  {
   "cell_type": "code",
   "execution_count": 28,
   "id": "25bb9376-e3c1-4caa-a1b7-d4f2a8b230f6",
   "metadata": {},
   "outputs": [
    {
     "data": {
      "text/plain": [
       "3"
      ]
     },
     "execution_count": 28,
     "metadata": {},
     "output_type": "execute_result"
    }
   ],
   "source": [
    "a3.ndim"
   ]
  },
  {
   "cell_type": "code",
   "execution_count": 29,
   "id": "b76cd8d3-6f45-4a88-a567-3b13cb565741",
   "metadata": {},
   "outputs": [],
   "source": [
    "l = [1,2,5,6,5,4,8]"
   ]
  },
  {
   "cell_type": "code",
   "execution_count": 34,
   "id": "fd39f564-128a-47d3-9e4d-d2897733bc17",
   "metadata": {},
   "outputs": [
    {
     "data": {
      "text/plain": [
       "array([1, 2, 5, 6, 5, 4, 8])"
      ]
     },
     "execution_count": 34,
     "metadata": {},
     "output_type": "execute_result"
    }
   ],
   "source": [
    "np.asarray(l)"
   ]
  },
  {
   "cell_type": "code",
   "execution_count": 33,
   "id": "099b58ff-b491-4985-862f-2aacccb9e0a6",
   "metadata": {},
   "outputs": [
    {
     "data": {
      "text/plain": [
       "array([1, 2, 5, 6, 5, 4, 8])"
      ]
     },
     "execution_count": 33,
     "metadata": {},
     "output_type": "execute_result"
    }
   ],
   "source": [
    "np.array(l)"
   ]
  },
  {
   "cell_type": "code",
   "execution_count": 32,
   "id": "fcc8d8c7-b3d7-4471-a6f0-338d81b479be",
   "metadata": {},
   "outputs": [
    {
     "data": {
      "text/plain": [
       "array([1, 2, 5, 6, 5, 4, 8])"
      ]
     },
     "execution_count": 32,
     "metadata": {},
     "output_type": "execute_result"
    }
   ],
   "source": [
    "np.asanyarray(l)"
   ]
  },
  {
   "cell_type": "code",
   "execution_count": 35,
   "id": "7ad88881-0fc1-4a3a-81ab-e628e3a25011",
   "metadata": {},
   "outputs": [
    {
     "data": {
      "text/plain": [
       "matrix([[1, 2, 5, 6, 5, 4, 8]])"
      ]
     },
     "execution_count": 35,
     "metadata": {},
     "output_type": "execute_result"
    }
   ],
   "source": [
    "np.matrix(l)"
   ]
  },
  {
   "cell_type": "markdown",
   "id": "75737a8c-0f80-496b-a510-ad6da4bbd88e",
   "metadata": {},
   "source": [
    "### Deep copy and Shallow copy"
   ]
  },
  {
   "cell_type": "markdown",
   "id": "bdc7b77b-4cf9-42dd-9ca4-b78f674ca013",
   "metadata": {},
   "source": [
    "    In the case of deep copy, a copy of the object is copied into another object. It means that any changes made to a copy of the object do not reflect in the original object. "
   ]
  },
  {
   "cell_type": "markdown",
   "id": "801bbdeb-4420-431b-8e95-21f8c9c14f76",
   "metadata": {},
   "source": [
    "    In the case of shallow copy, a reference of an object is copied into another object. It means that any changes made to a copy of an object do reflect in the original object. In python, this is implemented using the “copy()” function. \n",
    "\n"
   ]
  },
  {
   "cell_type": "code",
   "execution_count": 37,
   "id": "226a678f-683a-41e1-8024-a227d28cc0e5",
   "metadata": {},
   "outputs": [],
   "source": [
    "a = np.array(l)"
   ]
  },
  {
   "cell_type": "code",
   "execution_count": 38,
   "id": "c0ea433a-9c0f-4fa4-b5ab-4134fb379897",
   "metadata": {},
   "outputs": [
    {
     "data": {
      "text/plain": [
       "array([1, 2, 5, 6, 5, 4, 8])"
      ]
     },
     "execution_count": 38,
     "metadata": {},
     "output_type": "execute_result"
    }
   ],
   "source": [
    "a"
   ]
  },
  {
   "cell_type": "code",
   "execution_count": 39,
   "id": "2d5738b1-1266-498b-a24b-2986a341cdba",
   "metadata": {},
   "outputs": [],
   "source": [
    "a1 = a"
   ]
  },
  {
   "cell_type": "code",
   "execution_count": 40,
   "id": "b164a3a3-5a25-4eb6-a5c9-3c9a6ec087fb",
   "metadata": {},
   "outputs": [
    {
     "data": {
      "text/plain": [
       "array([1, 2, 5, 6, 5, 4, 8])"
      ]
     },
     "execution_count": 40,
     "metadata": {},
     "output_type": "execute_result"
    }
   ],
   "source": [
    "a1"
   ]
  },
  {
   "cell_type": "code",
   "execution_count": 41,
   "id": "c2375341-8d11-4a32-8f44-82c3bbdd4cce",
   "metadata": {},
   "outputs": [
    {
     "data": {
      "text/plain": [
       "array([1, 2, 5, 6, 5, 4, 8])"
      ]
     },
     "execution_count": 41,
     "metadata": {},
     "output_type": "execute_result"
    }
   ],
   "source": [
    "a"
   ]
  },
  {
   "cell_type": "code",
   "execution_count": 43,
   "id": "f2e43647-d629-451f-8162-9f006c8b1aa4",
   "metadata": {},
   "outputs": [],
   "source": [
    "a[0] = 100"
   ]
  },
  {
   "cell_type": "code",
   "execution_count": 44,
   "id": "2bda0fdf-d752-4b1a-9d64-de331af67b2e",
   "metadata": {},
   "outputs": [
    {
     "data": {
      "text/plain": [
       "array([100,   2,   5,   6,   5,   4,   8])"
      ]
     },
     "execution_count": 44,
     "metadata": {},
     "output_type": "execute_result"
    }
   ],
   "source": [
    "a"
   ]
  },
  {
   "cell_type": "code",
   "execution_count": 45,
   "id": "aa37bbfa-a269-4922-97ef-424fbb902b16",
   "metadata": {},
   "outputs": [
    {
     "data": {
      "text/plain": [
       "array([100,   2,   5,   6,   5,   4,   8])"
      ]
     },
     "execution_count": 45,
     "metadata": {},
     "output_type": "execute_result"
    }
   ],
   "source": [
    "a1"
   ]
  },
  {
   "cell_type": "code",
   "execution_count": 50,
   "id": "dd68fcc8-e528-4c91-ab7b-0d2113317c3b",
   "metadata": {},
   "outputs": [],
   "source": [
    "# Changes made in a is reflected in a1 as well.\n",
    "# Same will be true for reverese as well ie changes made in a1 will be reflected in a as well"
   ]
  },
  {
   "cell_type": "code",
   "execution_count": 51,
   "id": "508530b5-3fc5-421c-8df1-b85efd76d5d2",
   "metadata": {},
   "outputs": [
    {
     "data": {
      "text/plain": [
       "array([100,   2,   5,   6,   5,   4,   8])"
      ]
     },
     "execution_count": 51,
     "metadata": {},
     "output_type": "execute_result"
    }
   ],
   "source": [
    "a"
   ]
  },
  {
   "cell_type": "code",
   "execution_count": 48,
   "id": "ee8fbc3a-f75f-48e6-ba4c-ff9ecefabeed",
   "metadata": {},
   "outputs": [],
   "source": [
    "a2 = np.copy(a)"
   ]
  },
  {
   "cell_type": "code",
   "execution_count": 49,
   "id": "2db1bdd9-7350-40e4-adae-821acc0eab8e",
   "metadata": {},
   "outputs": [
    {
     "data": {
      "text/plain": [
       "array([100,   2,   5,   6,   5,   4,   8])"
      ]
     },
     "execution_count": 49,
     "metadata": {},
     "output_type": "execute_result"
    }
   ],
   "source": [
    "a2"
   ]
  },
  {
   "cell_type": "code",
   "execution_count": 56,
   "id": "0a855b6d-667b-406a-82ec-5a4d4ff5edf9",
   "metadata": {},
   "outputs": [],
   "source": [
    "a2[2] = 500"
   ]
  },
  {
   "cell_type": "code",
   "execution_count": 57,
   "id": "f7f47c26-d0a2-4107-b841-866e2c581cea",
   "metadata": {},
   "outputs": [
    {
     "data": {
      "text/plain": [
       "array([100,   2, 500,   6,   5,   4,   8])"
      ]
     },
     "execution_count": 57,
     "metadata": {},
     "output_type": "execute_result"
    }
   ],
   "source": [
    "a2"
   ]
  },
  {
   "cell_type": "code",
   "execution_count": 58,
   "id": "fbcbae73-1692-48dd-a95d-5b8fee05cfa2",
   "metadata": {},
   "outputs": [
    {
     "data": {
      "text/plain": [
       "array([100,   2,   5,   6,   5,   4,   8])"
      ]
     },
     "execution_count": 58,
     "metadata": {},
     "output_type": "execute_result"
    }
   ],
   "source": [
    "a"
   ]
  },
  {
   "cell_type": "code",
   "execution_count": 59,
   "id": "29ccc954-051c-4df4-b0ed-4ec907320182",
   "metadata": {},
   "outputs": [],
   "source": [
    "# Changes made in a2 did not relected in a here."
   ]
  },
  {
   "cell_type": "code",
   "execution_count": 61,
   "id": "cafe6479-975c-4628-807e-8eb2e933d025",
   "metadata": {},
   "outputs": [],
   "source": [
    "a[6] = 80"
   ]
  },
  {
   "cell_type": "code",
   "execution_count": 62,
   "id": "b8bde158-d345-4114-b4ea-47652d834b7b",
   "metadata": {},
   "outputs": [
    {
     "data": {
      "text/plain": [
       "array([100,   2,   5,   6,   5,   4,  80])"
      ]
     },
     "execution_count": 62,
     "metadata": {},
     "output_type": "execute_result"
    }
   ],
   "source": [
    "a"
   ]
  },
  {
   "cell_type": "code",
   "execution_count": 63,
   "id": "9e02d327-6880-4425-9443-de2913e0144b",
   "metadata": {},
   "outputs": [
    {
     "data": {
      "text/plain": [
       "array([100,   2, 500,   6,   5,   4,   8])"
      ]
     },
     "execution_count": 63,
     "metadata": {},
     "output_type": "execute_result"
    }
   ],
   "source": [
    "a2"
   ]
  },
  {
   "cell_type": "code",
   "execution_count": 64,
   "id": "af04d597-4505-4ab3-83fb-ad410fd5b8ba",
   "metadata": {},
   "outputs": [],
   "source": [
    "# Changes made in a did not relected in a2 as well."
   ]
  },
  {
   "cell_type": "code",
   "execution_count": 3,
   "id": "a5db3aa7-bacc-453e-b09e-b6fcf7136619",
   "metadata": {},
   "outputs": [
    {
     "data": {
      "text/plain": [
       "array([[ True, False, False],\n",
       "       [False,  True, False],\n",
       "       [False, False,  True]])"
      ]
     },
     "execution_count": 3,
     "metadata": {},
     "output_type": "execute_result"
    }
   ],
   "source": [
    "np.fromfunction(lambda i,j: i==j, (3,3))"
   ]
  },
  {
   "cell_type": "code",
   "execution_count": 4,
   "id": "c4e7674b-bc2f-4950-b79d-774a748442b9",
   "metadata": {},
   "outputs": [
    {
     "data": {
      "text/plain": [
       "array([[0.61003688, 0.19409718, 0.24065474],\n",
       "       [0.38299939, 0.28263687, 0.96342447]])"
      ]
     },
     "execution_count": 4,
     "metadata": {},
     "output_type": "execute_result"
    }
   ],
   "source": [
    "np.random.rand(2,3)"
   ]
  },
  {
   "cell_type": "code",
   "execution_count": 5,
   "id": "e4e4f494-afac-48f4-ab52-fc54d3e64f6a",
   "metadata": {},
   "outputs": [
    {
     "data": {
      "text/plain": [
       "array([[0.61612154, 0.95405699, 0.72466303],\n",
       "       [0.49441011, 0.15127258, 0.47183284]])"
      ]
     },
     "execution_count": 5,
     "metadata": {},
     "output_type": "execute_result"
    }
   ],
   "source": [
    "np.random.rand(2,3)"
   ]
  },
  {
   "cell_type": "code",
   "execution_count": 6,
   "id": "489caa64-881d-4110-9104-7ed2eb42b0fb",
   "metadata": {},
   "outputs": [
    {
     "data": {
      "text/plain": [
       "array([[[0.45277455, 0.40904639],\n",
       "        [0.72780631, 0.18242044],\n",
       "        [0.9378798 , 0.5053864 ]],\n",
       "\n",
       "       [[0.05249937, 0.61858149],\n",
       "        [0.86260511, 0.6257295 ],\n",
       "        [0.48041306, 0.56080461]]])"
      ]
     },
     "execution_count": 6,
     "metadata": {},
     "output_type": "execute_result"
    }
   ],
   "source": [
    "np.random.rand(2,3,2)"
   ]
  },
  {
   "cell_type": "code",
   "execution_count": 8,
   "id": "71d8dd3f-8ebf-4c2a-922f-57a179ac8543",
   "metadata": {},
   "outputs": [],
   "source": [
    "# 2 nos of 3x2 array generated above."
   ]
  },
  {
   "cell_type": "code",
   "execution_count": 9,
   "id": "5fac7cbd-1cd0-49a7-8951-479863d2ad95",
   "metadata": {},
   "outputs": [
    {
     "data": {
      "text/plain": [
       "array([[[0.59017343, 0.78557061, 0.90178341],\n",
       "        [0.91220622, 0.88898966, 0.91270941],\n",
       "        [0.31070458, 0.44117524, 0.33319103]],\n",
       "\n",
       "       [[0.36038449, 0.88587717, 0.1717874 ],\n",
       "        [0.63936417, 0.92292563, 0.65365436],\n",
       "        [0.69450736, 0.60428021, 0.33017024]]])"
      ]
     },
     "execution_count": 9,
     "metadata": {},
     "output_type": "execute_result"
    }
   ],
   "source": [
    "np.random.rand(2,3,3)"
   ]
  },
  {
   "cell_type": "code",
   "execution_count": 10,
   "id": "df710f88-2f14-49d9-85af-333c64436192",
   "metadata": {},
   "outputs": [],
   "source": [
    "# 2 nos of 3x3 array generated above"
   ]
  },
  {
   "cell_type": "code",
   "execution_count": 12,
   "id": "1b18964b-7b2d-4afb-a6ed-88247e8a8fa9",
   "metadata": {},
   "outputs": [],
   "source": [
    "d = np.random.rand(4,3)"
   ]
  },
  {
   "cell_type": "code",
   "execution_count": 13,
   "id": "ffa72852-303a-4985-8362-08e196259bc1",
   "metadata": {},
   "outputs": [
    {
     "data": {
      "text/plain": [
       "array([[0.61615987, 0.28406738, 0.09066964],\n",
       "       [0.18456165, 0.7162674 , 0.42310017],\n",
       "       [0.00156924, 0.60330078, 0.74482298],\n",
       "       [0.01225597, 0.66397091, 0.06325191]])"
      ]
     },
     "execution_count": 13,
     "metadata": {},
     "output_type": "execute_result"
    }
   ],
   "source": [
    "d"
   ]
  },
  {
   "cell_type": "code",
   "execution_count": 14,
   "id": "ead31d49-af53-462f-aee9-ad02b2006905",
   "metadata": {},
   "outputs": [],
   "source": [
    "import pandas as pd"
   ]
  },
  {
   "cell_type": "code",
   "execution_count": 15,
   "id": "f75fe920-690b-41eb-b467-b13848d5849a",
   "metadata": {},
   "outputs": [
    {
     "data": {
      "text/html": [
       "<div>\n",
       "<style scoped>\n",
       "    .dataframe tbody tr th:only-of-type {\n",
       "        vertical-align: middle;\n",
       "    }\n",
       "\n",
       "    .dataframe tbody tr th {\n",
       "        vertical-align: top;\n",
       "    }\n",
       "\n",
       "    .dataframe thead th {\n",
       "        text-align: right;\n",
       "    }\n",
       "</style>\n",
       "<table border=\"1\" class=\"dataframe\">\n",
       "  <thead>\n",
       "    <tr style=\"text-align: right;\">\n",
       "      <th></th>\n",
       "      <th>0</th>\n",
       "      <th>1</th>\n",
       "      <th>2</th>\n",
       "    </tr>\n",
       "  </thead>\n",
       "  <tbody>\n",
       "    <tr>\n",
       "      <th>0</th>\n",
       "      <td>0.616160</td>\n",
       "      <td>0.284067</td>\n",
       "      <td>0.090670</td>\n",
       "    </tr>\n",
       "    <tr>\n",
       "      <th>1</th>\n",
       "      <td>0.184562</td>\n",
       "      <td>0.716267</td>\n",
       "      <td>0.423100</td>\n",
       "    </tr>\n",
       "    <tr>\n",
       "      <th>2</th>\n",
       "      <td>0.001569</td>\n",
       "      <td>0.603301</td>\n",
       "      <td>0.744823</td>\n",
       "    </tr>\n",
       "    <tr>\n",
       "      <th>3</th>\n",
       "      <td>0.012256</td>\n",
       "      <td>0.663971</td>\n",
       "      <td>0.063252</td>\n",
       "    </tr>\n",
       "  </tbody>\n",
       "</table>\n",
       "</div>"
      ],
      "text/plain": [
       "          0         1         2\n",
       "0  0.616160  0.284067  0.090670\n",
       "1  0.184562  0.716267  0.423100\n",
       "2  0.001569  0.603301  0.744823\n",
       "3  0.012256  0.663971  0.063252"
      ]
     },
     "execution_count": 15,
     "metadata": {},
     "output_type": "execute_result"
    }
   ],
   "source": [
    "pd.DataFrame(d)"
   ]
  },
  {
   "cell_type": "code",
   "execution_count": 17,
   "id": "98ee9dfe-d17d-48e3-9838-6a09f89ab05e",
   "metadata": {},
   "outputs": [
    {
     "data": {
      "text/plain": [
       "array([[0, 2, 0],\n",
       "       [0, 3, 1],\n",
       "       [1, 0, 3]])"
      ]
     },
     "execution_count": 17,
     "metadata": {},
     "output_type": "execute_result"
    }
   ],
   "source": [
    "np.random.randint(0,5, (3,3))"
   ]
  },
  {
   "cell_type": "code",
   "execution_count": 18,
   "id": "ee2326c6-1066-407c-86b8-b1a606055725",
   "metadata": {},
   "outputs": [
    {
     "data": {
      "text/plain": [
       "array([[0, 0, 1],\n",
       "       [4, 2, 5],\n",
       "       [8, 5, 8],\n",
       "       [3, 0, 4]])"
      ]
     },
     "execution_count": 18,
     "metadata": {},
     "output_type": "execute_result"
    }
   ],
   "source": [
    "np.random.randint(0,10, (4,3))"
   ]
  },
  {
   "cell_type": "code",
   "execution_count": 19,
   "id": "07887aa7-915e-42af-a286-a6f88cfede04",
   "metadata": {},
   "outputs": [],
   "source": [
    "# HEre low = 0, high =10 and array size 4x3"
   ]
  },
  {
   "cell_type": "code",
   "execution_count": 20,
   "id": "291140f2-98ad-4e71-b53b-84623ebce4ce",
   "metadata": {},
   "outputs": [
    {
     "data": {
      "text/plain": [
       "array([[[5, 6, 2],\n",
       "        [4, 8, 9],\n",
       "        [7, 1, 3]],\n",
       "\n",
       "       [[0, 3, 6],\n",
       "        [4, 3, 1],\n",
       "        [7, 3, 9]],\n",
       "\n",
       "       [[8, 1, 5],\n",
       "        [4, 1, 8],\n",
       "        [4, 9, 9]],\n",
       "\n",
       "       [[5, 3, 3],\n",
       "        [2, 5, 2],\n",
       "        [5, 5, 2]]])"
      ]
     },
     "execution_count": 20,
     "metadata": {},
     "output_type": "execute_result"
    }
   ],
   "source": [
    "np.random.randint(0,10, (4,3,3))"
   ]
  },
  {
   "cell_type": "code",
   "execution_count": 22,
   "id": "1469a994-fa35-4ba3-b058-9048083ae757",
   "metadata": {},
   "outputs": [
    {
     "data": {
      "text/plain": [
       "array([[[-1.17401576, -0.41002389,  1.34152776, -0.72657308],\n",
       "        [ 0.13918741, -0.30297145, -0.90615109, -0.57857421],\n",
       "        [-0.59301941, -0.76994928, -0.73714526, -0.8613399 ],\n",
       "        [ 0.77415019, -0.80770835,  1.38359665, -1.65014261]],\n",
       "\n",
       "       [[ 0.43544945,  0.5778252 , -0.65638224, -1.24155342],\n",
       "        [ 0.81983121,  0.3057364 , -0.5776768 , -0.25345982],\n",
       "        [ 1.19070554, -1.18928881,  0.26835613,  1.46731134],\n",
       "        [-0.4962543 ,  0.64323243,  0.55149815, -0.57533349]],\n",
       "\n",
       "       [[ 0.5470692 , -2.60609443, -0.20041586,  0.61102171],\n",
       "        [ 0.35091993, -1.72015778,  0.88647028,  1.3423883 ],\n",
       "        [-1.28786606,  0.3468948 , -0.16544271,  0.42139217],\n",
       "        [-1.36717068, -0.26446617, -1.23682789, -0.22875003]]])"
      ]
     },
     "execution_count": 22,
     "metadata": {},
     "output_type": "execute_result"
    }
   ],
   "source": [
    "np.random.randn(3,4,4)"
   ]
  },
  {
   "cell_type": "code",
   "execution_count": 23,
   "id": "2d5da526-3a7f-4d03-89ba-5c4c3b0f70cb",
   "metadata": {},
   "outputs": [
    {
     "data": {
      "text/plain": [
       "array([[-0.78631557, -1.25730331, -0.31744277,  0.07507427],\n",
       "       [ 0.81213342, -0.40590172, -0.03598752, -0.20789867],\n",
       "       [ 0.95748782,  1.3373734 , -0.28081971, -0.16046592]])"
      ]
     },
     "execution_count": 23,
     "metadata": {},
     "output_type": "execute_result"
    }
   ],
   "source": [
    "np.random.randn(3,4)"
   ]
  },
  {
   "cell_type": "code",
   "execution_count": 25,
   "id": "a9a28893-e583-4d9f-8dbc-87812bbb8ef4",
   "metadata": {},
   "outputs": [],
   "source": [
    "# Here mean of data =0 and std deviation = 1 in random.randn"
   ]
  },
  {
   "cell_type": "code",
   "execution_count": 26,
   "id": "8824703d-8384-4667-b13c-c717235ff0fe",
   "metadata": {},
   "outputs": [],
   "source": [
    "# To convert 3d data into 2d form, use reshape function"
   ]
  },
  {
   "cell_type": "code",
   "execution_count": 30,
   "id": "595d6c08-b60e-4bb2-8e2f-f44671596823",
   "metadata": {},
   "outputs": [],
   "source": [
    "d = np.random.randint(0,10, (4,4,2))"
   ]
  },
  {
   "cell_type": "code",
   "execution_count": 31,
   "id": "f2079ab3-9f1b-4611-a0d9-e97aa6238d0d",
   "metadata": {},
   "outputs": [
    {
     "data": {
      "text/plain": [
       "array([[[4, 6],\n",
       "        [3, 3],\n",
       "        [2, 4],\n",
       "        [3, 0]],\n",
       "\n",
       "       [[6, 2],\n",
       "        [0, 0],\n",
       "        [7, 0],\n",
       "        [5, 0]],\n",
       "\n",
       "       [[4, 5],\n",
       "        [4, 1],\n",
       "        [9, 4],\n",
       "        [2, 5]],\n",
       "\n",
       "       [[8, 3],\n",
       "        [1, 5],\n",
       "        [7, 1],\n",
       "        [0, 1]]])"
      ]
     },
     "execution_count": 31,
     "metadata": {},
     "output_type": "execute_result"
    }
   ],
   "source": [
    "d"
   ]
  },
  {
   "cell_type": "code",
   "execution_count": 29,
   "id": "4a920dc8-ee74-4cef-b1f2-a7d2e1f592d9",
   "metadata": {},
   "outputs": [
    {
     "ename": "ValueError",
     "evalue": "Must pass 2-d input. shape=(4, 4, 2)",
     "output_type": "error",
     "traceback": [
      "\u001b[0;31m---------------------------------------------------------------------------\u001b[0m",
      "\u001b[0;31mValueError\u001b[0m                                Traceback (most recent call last)",
      "Cell \u001b[0;32mIn [29], line 1\u001b[0m\n\u001b[0;32m----> 1\u001b[0m \u001b[43mpd\u001b[49m\u001b[38;5;241;43m.\u001b[39;49m\u001b[43mDataFrame\u001b[49m\u001b[43m(\u001b[49m\u001b[43md\u001b[49m\u001b[43m)\u001b[49m\n",
      "File \u001b[0;32m/opt/conda/lib/python3.10/site-packages/pandas/core/frame.py:720\u001b[0m, in \u001b[0;36mDataFrame.__init__\u001b[0;34m(self, data, index, columns, dtype, copy)\u001b[0m\n\u001b[1;32m    710\u001b[0m         mgr \u001b[38;5;241m=\u001b[39m dict_to_mgr(\n\u001b[1;32m    711\u001b[0m             \u001b[38;5;66;03m# error: Item \"ndarray\" of \"Union[ndarray, Series, Index]\" has no\u001b[39;00m\n\u001b[1;32m    712\u001b[0m             \u001b[38;5;66;03m# attribute \"name\"\u001b[39;00m\n\u001b[0;32m   (...)\u001b[0m\n\u001b[1;32m    717\u001b[0m             typ\u001b[38;5;241m=\u001b[39mmanager,\n\u001b[1;32m    718\u001b[0m         )\n\u001b[1;32m    719\u001b[0m     \u001b[38;5;28;01melse\u001b[39;00m:\n\u001b[0;32m--> 720\u001b[0m         mgr \u001b[38;5;241m=\u001b[39m \u001b[43mndarray_to_mgr\u001b[49m\u001b[43m(\u001b[49m\n\u001b[1;32m    721\u001b[0m \u001b[43m            \u001b[49m\u001b[43mdata\u001b[49m\u001b[43m,\u001b[49m\n\u001b[1;32m    722\u001b[0m \u001b[43m            \u001b[49m\u001b[43mindex\u001b[49m\u001b[43m,\u001b[49m\n\u001b[1;32m    723\u001b[0m \u001b[43m            \u001b[49m\u001b[43mcolumns\u001b[49m\u001b[43m,\u001b[49m\n\u001b[1;32m    724\u001b[0m \u001b[43m            \u001b[49m\u001b[43mdtype\u001b[49m\u001b[38;5;241;43m=\u001b[39;49m\u001b[43mdtype\u001b[49m\u001b[43m,\u001b[49m\n\u001b[1;32m    725\u001b[0m \u001b[43m            \u001b[49m\u001b[43mcopy\u001b[49m\u001b[38;5;241;43m=\u001b[39;49m\u001b[43mcopy\u001b[49m\u001b[43m,\u001b[49m\n\u001b[1;32m    726\u001b[0m \u001b[43m            \u001b[49m\u001b[43mtyp\u001b[49m\u001b[38;5;241;43m=\u001b[39;49m\u001b[43mmanager\u001b[49m\u001b[43m,\u001b[49m\n\u001b[1;32m    727\u001b[0m \u001b[43m        \u001b[49m\u001b[43m)\u001b[49m\n\u001b[1;32m    729\u001b[0m \u001b[38;5;66;03m# For data is list-like, or Iterable (will consume into list)\u001b[39;00m\n\u001b[1;32m    730\u001b[0m \u001b[38;5;28;01melif\u001b[39;00m is_list_like(data):\n",
      "File \u001b[0;32m/opt/conda/lib/python3.10/site-packages/pandas/core/internals/construction.py:329\u001b[0m, in \u001b[0;36mndarray_to_mgr\u001b[0;34m(values, index, columns, dtype, copy, typ)\u001b[0m\n\u001b[1;32m    324\u001b[0m         values \u001b[38;5;241m=\u001b[39m values\u001b[38;5;241m.\u001b[39mreshape(\u001b[38;5;241m-\u001b[39m\u001b[38;5;241m1\u001b[39m, \u001b[38;5;241m1\u001b[39m)\n\u001b[1;32m    326\u001b[0m \u001b[38;5;28;01melse\u001b[39;00m:\n\u001b[1;32m    327\u001b[0m     \u001b[38;5;66;03m# by definition an array here\u001b[39;00m\n\u001b[1;32m    328\u001b[0m     \u001b[38;5;66;03m# the dtypes will be coerced to a single dtype\u001b[39;00m\n\u001b[0;32m--> 329\u001b[0m     values \u001b[38;5;241m=\u001b[39m \u001b[43m_prep_ndarraylike\u001b[49m\u001b[43m(\u001b[49m\u001b[43mvalues\u001b[49m\u001b[43m,\u001b[49m\u001b[43m \u001b[49m\u001b[43mcopy\u001b[49m\u001b[38;5;241;43m=\u001b[39;49m\u001b[43mcopy_on_sanitize\u001b[49m\u001b[43m)\u001b[49m\n\u001b[1;32m    331\u001b[0m \u001b[38;5;28;01mif\u001b[39;00m dtype \u001b[38;5;129;01mis\u001b[39;00m \u001b[38;5;129;01mnot\u001b[39;00m \u001b[38;5;28;01mNone\u001b[39;00m \u001b[38;5;129;01mand\u001b[39;00m \u001b[38;5;129;01mnot\u001b[39;00m is_dtype_equal(values\u001b[38;5;241m.\u001b[39mdtype, dtype):\n\u001b[1;32m    332\u001b[0m     \u001b[38;5;66;03m# GH#40110 see similar check inside sanitize_array\u001b[39;00m\n\u001b[1;32m    333\u001b[0m     rcf \u001b[38;5;241m=\u001b[39m \u001b[38;5;129;01mnot\u001b[39;00m (is_integer_dtype(dtype) \u001b[38;5;129;01mand\u001b[39;00m values\u001b[38;5;241m.\u001b[39mdtype\u001b[38;5;241m.\u001b[39mkind \u001b[38;5;241m==\u001b[39m \u001b[38;5;124m\"\u001b[39m\u001b[38;5;124mf\u001b[39m\u001b[38;5;124m\"\u001b[39m)\n",
      "File \u001b[0;32m/opt/conda/lib/python3.10/site-packages/pandas/core/internals/construction.py:583\u001b[0m, in \u001b[0;36m_prep_ndarraylike\u001b[0;34m(values, copy)\u001b[0m\n\u001b[1;32m    581\u001b[0m     values \u001b[38;5;241m=\u001b[39m values\u001b[38;5;241m.\u001b[39mreshape((values\u001b[38;5;241m.\u001b[39mshape[\u001b[38;5;241m0\u001b[39m], \u001b[38;5;241m1\u001b[39m))\n\u001b[1;32m    582\u001b[0m \u001b[38;5;28;01melif\u001b[39;00m values\u001b[38;5;241m.\u001b[39mndim \u001b[38;5;241m!=\u001b[39m \u001b[38;5;241m2\u001b[39m:\n\u001b[0;32m--> 583\u001b[0m     \u001b[38;5;28;01mraise\u001b[39;00m \u001b[38;5;167;01mValueError\u001b[39;00m(\u001b[38;5;124mf\u001b[39m\u001b[38;5;124m\"\u001b[39m\u001b[38;5;124mMust pass 2-d input. shape=\u001b[39m\u001b[38;5;132;01m{\u001b[39;00mvalues\u001b[38;5;241m.\u001b[39mshape\u001b[38;5;132;01m}\u001b[39;00m\u001b[38;5;124m\"\u001b[39m)\n\u001b[1;32m    585\u001b[0m \u001b[38;5;28;01mreturn\u001b[39;00m values\n",
      "\u001b[0;31mValueError\u001b[0m: Must pass 2-d input. shape=(4, 4, 2)"
     ]
    }
   ],
   "source": [
    "pd.DataFrame(d)"
   ]
  },
  {
   "cell_type": "code",
   "execution_count": 34,
   "id": "b226b14b-4b96-4cd0-9ad2-80d79a8470b4",
   "metadata": {},
   "outputs": [
    {
     "data": {
      "text/plain": [
       "array([[4, 6, 3, 3, 2, 4, 3, 0, 6, 2, 0, 0, 7, 0, 5, 0],\n",
       "       [4, 5, 4, 1, 9, 4, 2, 5, 8, 3, 1, 5, 7, 1, 0, 1]])"
      ]
     },
     "execution_count": 34,
     "metadata": {},
     "output_type": "execute_result"
    }
   ],
   "source": [
    "d.reshape(2,16)"
   ]
  },
  {
   "cell_type": "code",
   "execution_count": 35,
   "id": "1664aff7-f32f-4d17-aed7-93976b919934",
   "metadata": {},
   "outputs": [
    {
     "data": {
      "text/plain": [
       "array([[4, 6, 3, 3],\n",
       "       [2, 4, 3, 0],\n",
       "       [6, 2, 0, 0],\n",
       "       [7, 0, 5, 0],\n",
       "       [4, 5, 4, 1],\n",
       "       [9, 4, 2, 5],\n",
       "       [8, 3, 1, 5],\n",
       "       [7, 1, 0, 1]])"
      ]
     },
     "execution_count": 35,
     "metadata": {},
     "output_type": "execute_result"
    }
   ],
   "source": [
    "d.reshape(8,4)"
   ]
  },
  {
   "cell_type": "code",
   "execution_count": 36,
   "id": "90369682-5770-46cc-876e-c3fdd4d33289",
   "metadata": {},
   "outputs": [
    {
     "data": {
      "text/plain": [
       "array([[4, 6, 3, 3, 2, 4, 3, 0, 6, 2, 0, 0, 7, 0, 5, 0, 4, 5, 4, 1, 9, 4,\n",
       "        2, 5, 8, 3, 1, 5, 7, 1, 0, 1]])"
      ]
     },
     "execution_count": 36,
     "metadata": {},
     "output_type": "execute_result"
    }
   ],
   "source": [
    "d.reshape(1,32)"
   ]
  },
  {
   "cell_type": "code",
   "execution_count": 37,
   "id": "80d15869-9ce9-47be-b757-f70c65f60202",
   "metadata": {},
   "outputs": [
    {
     "data": {
      "text/plain": [
       "array([[4, 6],\n",
       "       [3, 3],\n",
       "       [2, 4],\n",
       "       [3, 0],\n",
       "       [6, 2],\n",
       "       [0, 0],\n",
       "       [7, 0],\n",
       "       [5, 0],\n",
       "       [4, 5],\n",
       "       [4, 1],\n",
       "       [9, 4],\n",
       "       [2, 5],\n",
       "       [8, 3],\n",
       "       [1, 5],\n",
       "       [7, 1],\n",
       "       [0, 1]])"
      ]
     },
     "execution_count": 37,
     "metadata": {},
     "output_type": "execute_result"
    }
   ],
   "source": [
    "d.reshape(16,-56)"
   ]
  },
  {
   "cell_type": "code",
   "execution_count": 38,
   "id": "7d68a30d-bc19-4f8d-8ceb-22bdd9d4ea60",
   "metadata": {},
   "outputs": [
    {
     "data": {
      "text/plain": [
       "array([[4],\n",
       "       [6],\n",
       "       [3],\n",
       "       [3],\n",
       "       [2],\n",
       "       [4],\n",
       "       [3],\n",
       "       [0],\n",
       "       [6],\n",
       "       [2],\n",
       "       [0],\n",
       "       [0],\n",
       "       [7],\n",
       "       [0],\n",
       "       [5],\n",
       "       [0],\n",
       "       [4],\n",
       "       [5],\n",
       "       [4],\n",
       "       [1],\n",
       "       [9],\n",
       "       [4],\n",
       "       [2],\n",
       "       [5],\n",
       "       [8],\n",
       "       [3],\n",
       "       [1],\n",
       "       [5],\n",
       "       [7],\n",
       "       [1],\n",
       "       [0],\n",
       "       [1]])"
      ]
     },
     "execution_count": 38,
     "metadata": {},
     "output_type": "execute_result"
    }
   ],
   "source": [
    "d.reshape(32,-14456)"
   ]
  },
  {
   "cell_type": "code",
   "execution_count": 39,
   "id": "f41ee5fe-5a69-41d1-947c-6e74a27657cf",
   "metadata": {},
   "outputs": [
    {
     "data": {
      "text/plain": [
       "array([[4, 6, 3, 3],\n",
       "       [2, 4, 3, 0],\n",
       "       [6, 2, 0, 0],\n",
       "       [7, 0, 5, 0],\n",
       "       [4, 5, 4, 1],\n",
       "       [9, 4, 2, 5],\n",
       "       [8, 3, 1, 5],\n",
       "       [7, 1, 0, 1]])"
      ]
     },
     "execution_count": 39,
     "metadata": {},
     "output_type": "execute_result"
    }
   ],
   "source": [
    "d.reshape(8,-6554)"
   ]
  },
  {
   "cell_type": "code",
   "execution_count": 40,
   "id": "36f19003-5a77-408d-a564-49afdfa2cc52",
   "metadata": {},
   "outputs": [
    {
     "ename": "ValueError",
     "evalue": "cannot reshape array of size 32 into shape (4,5)",
     "output_type": "error",
     "traceback": [
      "\u001b[0;31m---------------------------------------------------------------------------\u001b[0m",
      "\u001b[0;31mValueError\u001b[0m                                Traceback (most recent call last)",
      "Cell \u001b[0;32mIn [40], line 1\u001b[0m\n\u001b[0;32m----> 1\u001b[0m \u001b[43md\u001b[49m\u001b[38;5;241;43m.\u001b[39;49m\u001b[43mreshape\u001b[49m\u001b[43m(\u001b[49m\u001b[38;5;241;43m4\u001b[39;49m\u001b[43m,\u001b[49m\u001b[38;5;241;43m5\u001b[39;49m\u001b[43m)\u001b[49m\n",
      "\u001b[0;31mValueError\u001b[0m: cannot reshape array of size 32 into shape (4,5)"
     ]
    }
   ],
   "source": [
    "d.reshape(4,5)"
   ]
  },
  {
   "cell_type": "code",
   "execution_count": 41,
   "id": "d6ad9f96-e4ad-40f8-a997-4c801c8b1127",
   "metadata": {},
   "outputs": [
    {
     "data": {
      "text/html": [
       "<div>\n",
       "<style scoped>\n",
       "    .dataframe tbody tr th:only-of-type {\n",
       "        vertical-align: middle;\n",
       "    }\n",
       "\n",
       "    .dataframe tbody tr th {\n",
       "        vertical-align: top;\n",
       "    }\n",
       "\n",
       "    .dataframe thead th {\n",
       "        text-align: right;\n",
       "    }\n",
       "</style>\n",
       "<table border=\"1\" class=\"dataframe\">\n",
       "  <thead>\n",
       "    <tr style=\"text-align: right;\">\n",
       "      <th></th>\n",
       "      <th>0</th>\n",
       "      <th>1</th>\n",
       "      <th>2</th>\n",
       "      <th>3</th>\n",
       "    </tr>\n",
       "  </thead>\n",
       "  <tbody>\n",
       "    <tr>\n",
       "      <th>0</th>\n",
       "      <td>4</td>\n",
       "      <td>6</td>\n",
       "      <td>3</td>\n",
       "      <td>3</td>\n",
       "    </tr>\n",
       "    <tr>\n",
       "      <th>1</th>\n",
       "      <td>2</td>\n",
       "      <td>4</td>\n",
       "      <td>3</td>\n",
       "      <td>0</td>\n",
       "    </tr>\n",
       "    <tr>\n",
       "      <th>2</th>\n",
       "      <td>6</td>\n",
       "      <td>2</td>\n",
       "      <td>0</td>\n",
       "      <td>0</td>\n",
       "    </tr>\n",
       "    <tr>\n",
       "      <th>3</th>\n",
       "      <td>7</td>\n",
       "      <td>0</td>\n",
       "      <td>5</td>\n",
       "      <td>0</td>\n",
       "    </tr>\n",
       "    <tr>\n",
       "      <th>4</th>\n",
       "      <td>4</td>\n",
       "      <td>5</td>\n",
       "      <td>4</td>\n",
       "      <td>1</td>\n",
       "    </tr>\n",
       "    <tr>\n",
       "      <th>5</th>\n",
       "      <td>9</td>\n",
       "      <td>4</td>\n",
       "      <td>2</td>\n",
       "      <td>5</td>\n",
       "    </tr>\n",
       "    <tr>\n",
       "      <th>6</th>\n",
       "      <td>8</td>\n",
       "      <td>3</td>\n",
       "      <td>1</td>\n",
       "      <td>5</td>\n",
       "    </tr>\n",
       "    <tr>\n",
       "      <th>7</th>\n",
       "      <td>7</td>\n",
       "      <td>1</td>\n",
       "      <td>0</td>\n",
       "      <td>1</td>\n",
       "    </tr>\n",
       "  </tbody>\n",
       "</table>\n",
       "</div>"
      ],
      "text/plain": [
       "   0  1  2  3\n",
       "0  4  6  3  3\n",
       "1  2  4  3  0\n",
       "2  6  2  0  0\n",
       "3  7  0  5  0\n",
       "4  4  5  4  1\n",
       "5  9  4  2  5\n",
       "6  8  3  1  5\n",
       "7  7  1  0  1"
      ]
     },
     "execution_count": 41,
     "metadata": {},
     "output_type": "execute_result"
    }
   ],
   "source": [
    "pd.DataFrame(d.reshape(8,-6554))"
   ]
  },
  {
   "cell_type": "code",
   "execution_count": 43,
   "id": "6a1a5347-34ca-4b4d-8551-b6d81dc1a5db",
   "metadata": {},
   "outputs": [],
   "source": [
    "# Once we have array in 2d, we can use dataframe"
   ]
  },
  {
   "cell_type": "code",
   "execution_count": null,
   "id": "33121f38-c8b2-4d2b-a572-50bfe92bb84b",
   "metadata": {},
   "outputs": [],
   "source": []
  }
 ],
 "metadata": {
  "kernelspec": {
   "display_name": "Python 3 (ipykernel)",
   "language": "python",
   "name": "python3"
  },
  "language_info": {
   "codemirror_mode": {
    "name": "ipython",
    "version": 3
   },
   "file_extension": ".py",
   "mimetype": "text/x-python",
   "name": "python",
   "nbconvert_exporter": "python",
   "pygments_lexer": "ipython3",
   "version": "3.10.6"
  }
 },
 "nbformat": 4,
 "nbformat_minor": 5
}
